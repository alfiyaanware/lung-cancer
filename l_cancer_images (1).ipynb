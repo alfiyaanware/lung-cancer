{
  "cells": [
    {
      "cell_type": "markdown",
      "metadata": {
        "id": "glYHP4-7Jp--"
      },
      "source": [
        "# Lung Cancer Detection using Image Classification with CNN\n"
      ]
    },
    {
      "cell_type": "code",
      "execution_count": null,
      "metadata": {
        "id": "TkOhVp1FJp_A"
      },
      "outputs": [],
      "source": [
        "import os\n",
        "import torch\n",
        "import torchvision\n",
        "import tarfile\n",
        "from torchvision.datasets.utils import download_url\n",
        "from torch.utils.data import random_split"
      ]
    },
    {
      "cell_type": "code",
      "execution_count": null,
      "metadata": {
        "id": "ImubC3HRJp_A"
      },
      "outputs": [],
      "source": [
        "project_name='l-cancer-images-2'"
      ]
    },
    {
      "cell_type": "code",
      "source": [
        "!pip install opendatasets scikit-learn plotly folium --upgrade --quiet\n",
        "\n",
        "import opendatasets as od"
      ],
      "metadata": {
        "id": "PBaLWBCge9SO"
      },
      "execution_count": null,
      "outputs": []
    },
    {
      "cell_type": "code",
      "source": [
        "od.download('https://www.kaggle.com/datasets/adityamahimkar/iqothnccd-lung-cancer-dataset')"
      ],
      "metadata": {
        "colab": {
          "base_uri": "https://localhost:8080/"
        },
        "id": "m5jVdOVLfLI8",
        "outputId": "27642667-75ee-43ed-90a9-c5117d7704c9"
      },
      "execution_count": null,
      "outputs": [
        {
          "output_type": "stream",
          "name": "stdout",
          "text": [
            "Please provide your Kaggle credentials to download this dataset. Learn more: http://bit.ly/kaggle-creds\n",
            "Your Kaggle username: applefiya\n",
            "Your Kaggle Key: ··········\n",
            "Downloading iqothnccd-lung-cancer-dataset.zip to ./iqothnccd-lung-cancer-dataset\n"
          ]
        },
        {
          "output_type": "stream",
          "name": "stderr",
          "text": [
            "100%|██████████| 199M/199M [00:11<00:00, 17.9MB/s]\n"
          ]
        },
        {
          "output_type": "stream",
          "name": "stdout",
          "text": [
            "\n"
          ]
        }
      ]
    },
    {
      "cell_type": "code",
      "source": [
        "!rm /content/iqothnccd-lung-cancer-dataset/The\\ IQ-OTHNCCD\\ lung\\ cancer\\ dataset/The\\ IQ-OTHNCCD\\ lung\\ cancer\\ dataset/IQ-OTH_NCCD\\ lung\\ cancer\\ dataset.txt"
      ],
      "metadata": {
        "id": "cNo3NEpxfrb1"
      },
      "execution_count": null,
      "outputs": []
    },
    {
      "cell_type": "code",
      "source": [
        "import os\n",
        "import shutil\n",
        "import random\n",
        "\n",
        "# Set the path of your original dataset\n",
        "data_path = \"/content/iqothnccd-lung-cancer-dataset/The IQ-OTHNCCD lung cancer dataset/The IQ-OTHNCCD lung cancer dataset\"\n",
        "\n",
        "# Set the path of your new dataset\n",
        "new_data_path = \"/content/Image data\"\n",
        "\n",
        "# Set the split ratio\n",
        "train_ratio = 0.8\n",
        "val_ratio = 0.1\n",
        "test_ratio = 0.1\n",
        "\n",
        "# Create the new directories for train, val, and test\n",
        "train_dir = os.path.join(new_data_path, \"train\")\n",
        "val_dir = os.path.join(new_data_path, \"val\")\n",
        "test_dir = os.path.join(new_data_path, \"test\")\n",
        "os.makedirs(train_dir, exist_ok=True)\n",
        "os.makedirs(val_dir, exist_ok=True)\n",
        "os.makedirs(test_dir, exist_ok=True)\n",
        "\n",
        "# Get a list of all the classes in your dataset\n",
        "classes = os.listdir(data_path)\n",
        "\n",
        "# Iterate through each class\n",
        "for class_name in classes:\n",
        "    # Create the new directories for each class in train, val, and test\n",
        "    class_train_dir = os.path.join(train_dir, class_name)\n",
        "    class_val_dir = os.path.join(val_dir, class_name)\n",
        "    class_test_dir = os.path.join(test_dir, class_name)\n",
        "    os.makedirs(class_train_dir, exist_ok=True)\n",
        "    os.makedirs(class_val_dir, exist_ok=True)\n",
        "    os.makedirs(class_test_dir, exist_ok=True)\n",
        "    \n",
        "    # Get a list of all the images in the current class\n",
        "    images = os.listdir(os.path.join(data_path, class_name))\n",
        "    \n",
        "    # Shuffle the images\n",
        "    random.shuffle(images)\n",
        "    \n",
        "    # Split the images into train, val, and test sets based on the split ratio\n",
        "    train_split_index = int(len(images) * train_ratio)\n",
        "    val_split_index = int(len(images) * (train_ratio + val_ratio))\n",
        "    \n",
        "    train_images = images[:train_split_index]\n",
        "    val_images = images[train_split_index:val_split_index]\n",
        "    test_images = images[val_split_index:]\n",
        "    \n",
        "    # Copy the images to the appropriate directories in the new dataset\n",
        "    for image_name in train_images:\n",
        "        shutil.copy(os.path.join(data_path, class_name, image_name), os.path.join(class_train_dir, image_name))\n",
        "    for image_name in val_images:\n",
        "        shutil.copy(os.path.join(data_path, class_name, image_name), os.path.join(class_val_dir, image_name))\n",
        "    for image_name in test_images:\n",
        "        shutil.copy(os.path.join(data_path, class_name, image_name), os.path.join(class_test_dir, image_name))\n"
      ],
      "metadata": {
        "id": "Ot_VCstsdahu"
      },
      "execution_count": null,
      "outputs": []
    },
    {
      "cell_type": "code",
      "execution_count": null,
      "metadata": {
        "colab": {
          "base_uri": "https://localhost:8080/"
        },
        "id": "Ewt8o-hiJp_C",
        "outputId": "b6196919-4f88-4ab7-cc9b-5bea918ed540"
      },
      "outputs": [
        {
          "output_type": "stream",
          "name": "stdout",
          "text": [
            "['val', 'test', 'train']\n",
            "['Bengin cases', 'Malignant cases', 'Normal cases']\n"
          ]
        }
      ],
      "source": [
        "# data_dir = './iqothnccd-lung-cancer-dataset'\n",
        "data_dir = '/content/Image data'\n",
        "print(os.listdir(data_dir))\n",
        "classes = os.listdir(data_dir+'/train')\n",
        "print(classes)"
      ]
    },
    {
      "cell_type": "code",
      "execution_count": null,
      "metadata": {
        "colab": {
          "base_uri": "https://localhost:8080/"
        },
        "id": "sZS3sDJ4Jp_D",
        "outputId": "be23b869-1c2c-42a1-8c95-68aa00da87fb"
      },
      "outputs": [
        {
          "output_type": "stream",
          "name": "stdout",
          "text": [
            "No. of training examples for benign cases: 96\n",
            "['Bengin case (72).jpg', 'Bengin case (54).jpg', 'Bengin case (113).jpg', 'Bengin case (78).jpg', 'Bengin case (67).jpg']\n"
          ]
        }
      ],
      "source": [
        "# data_dir = 'Image data'\n",
        "\n",
        "benign = os.listdir(data_dir + \"/train/Bengin cases\")\n",
        "print('No. of training examples for benign cases:', len(benign))\n",
        "print(benign[:5])"
      ]
    },
    {
      "cell_type": "code",
      "execution_count": null,
      "metadata": {
        "colab": {
          "base_uri": "https://localhost:8080/"
        },
        "id": "rvhUgwAMJp_D",
        "outputId": "c9b2f4e7-7174-4b77-f612-fa8839d9314b"
      },
      "outputs": [
        {
          "output_type": "stream",
          "name": "stdout",
          "text": [
            "No. of testing examples for malignant cases: 57\n",
            "['Malignant case (522).jpg', 'Malignant case (378).jpg', 'Malignant case (35).jpg', 'Malignant case (324).jpg', 'Malignant case (139).jpg']\n",
            "No. of training examples for malignant cases: 448\n",
            "['Malignant case (195).jpg', 'Malignant case (457).jpg', 'Malignant case (222).jpg', 'Malignant case (215).jpg', 'Malignant case (470).jpg']\n"
          ]
        }
      ],
      "source": [
        "malignant = os.listdir(data_dir + \"/test/Malignant cases\")\n",
        "print('No. of testing examples for malignant cases:', len(malignant))\n",
        "print(malignant[:5])\n",
        "malignant = os.listdir(data_dir + \"/train/Malignant cases\")\n",
        "print('No. of training examples for malignant cases:', len(malignant))\n",
        "print(malignant[:5])"
      ]
    },
    {
      "cell_type": "code",
      "source": [
        "normal = os.listdir(data_dir + \"/train/Normal cases\")\n",
        "print('No. of training examples for normal cases:', len(normal))\n",
        "print(normal[:5])"
      ],
      "metadata": {
        "colab": {
          "base_uri": "https://localhost:8080/"
        },
        "id": "xnCJXIBdg6el",
        "outputId": "fb8426d0-43e9-4fa8-8b17-c6e97f959fdb"
      },
      "execution_count": null,
      "outputs": [
        {
          "output_type": "stream",
          "name": "stdout",
          "text": [
            "No. of training examples for normal cases: 332\n",
            "['Normal case (26).jpg', 'Normal case (403).jpg', 'Normal case (65).jpg', 'Normal case (278).jpg', 'Normal case (356).jpg']\n"
          ]
        }
      ]
    },
    {
      "cell_type": "code",
      "execution_count": null,
      "metadata": {
        "id": "ubxtJzJjJp_E"
      },
      "outputs": [],
      "source": [
        "from torchvision.datasets import ImageFolder\n",
        "from torchvision.transforms import ToTensor"
      ]
    },
    {
      "cell_type": "code",
      "execution_count": null,
      "metadata": {
        "id": "6IAxD0e9Jp_E"
      },
      "outputs": [],
      "source": [
        "dataset = ImageFolder(data_dir+'/train', transform=b())"
      ]
    },
    {
      "cell_type": "code",
      "execution_count": null,
      "metadata": {
        "colab": {
          "base_uri": "https://localhost:8080/"
        },
        "id": "uFWkd84bJp_F",
        "outputId": "16d207d6-07f0-4a0c-cc4e-2ef283618410"
      },
      "outputs": [
        {
          "output_type": "stream",
          "name": "stdout",
          "text": [
            "torch.Size([3, 512, 512]) 0\n"
          ]
        },
        {
          "output_type": "execute_result",
          "data": {
            "text/plain": [
              "tensor([[[0.1490, 0.1490, 0.1490,  ..., 0.1490, 0.1490, 0.1490],\n",
              "         [0.1490, 0.1490, 0.1490,  ..., 0.1490, 0.1490, 0.1490],\n",
              "         [0.1490, 0.1490, 0.1490,  ..., 0.1490, 0.1490, 0.1490],\n",
              "         ...,\n",
              "         [0.1490, 0.1490, 0.1490,  ..., 0.1490, 0.1490, 0.1490],\n",
              "         [0.1490, 0.1490, 0.1490,  ..., 0.1490, 0.1490, 0.1490],\n",
              "         [0.1490, 0.1490, 0.1490,  ..., 0.1490, 0.1490, 0.1490]],\n",
              "\n",
              "        [[0.1490, 0.1490, 0.1490,  ..., 0.1490, 0.1490, 0.1490],\n",
              "         [0.1490, 0.1490, 0.1490,  ..., 0.1490, 0.1490, 0.1490],\n",
              "         [0.1490, 0.1490, 0.1490,  ..., 0.1490, 0.1490, 0.1490],\n",
              "         ...,\n",
              "         [0.1490, 0.1490, 0.1490,  ..., 0.1490, 0.1490, 0.1490],\n",
              "         [0.1490, 0.1490, 0.1490,  ..., 0.1490, 0.1490, 0.1490],\n",
              "         [0.1490, 0.1490, 0.1490,  ..., 0.1490, 0.1490, 0.1490]],\n",
              "\n",
              "        [[0.1490, 0.1490, 0.1490,  ..., 0.1490, 0.1490, 0.1490],\n",
              "         [0.1490, 0.1490, 0.1490,  ..., 0.1490, 0.1490, 0.1490],\n",
              "         [0.1490, 0.1490, 0.1490,  ..., 0.1490, 0.1490, 0.1490],\n",
              "         ...,\n",
              "         [0.1490, 0.1490, 0.1490,  ..., 0.1490, 0.1490, 0.1490],\n",
              "         [0.1490, 0.1490, 0.1490,  ..., 0.1490, 0.1490, 0.1490],\n",
              "         [0.1490, 0.1490, 0.1490,  ..., 0.1490, 0.1490, 0.1490]]])"
            ]
          },
          "metadata": {},
          "execution_count": 13
        }
      ],
      "source": [
        "img, label = dataset[0]\n",
        "print(img.shape, label)\n",
        "img"
      ]
    },
    {
      "cell_type": "code",
      "execution_count": null,
      "metadata": {
        "colab": {
          "base_uri": "https://localhost:8080/"
        },
        "id": "O-XOdz6KJp_G",
        "outputId": "3be8d104-3b47-4b0d-c290-e3eac1ab9c15"
      },
      "outputs": [
        {
          "output_type": "stream",
          "name": "stdout",
          "text": [
            "['Bengin cases', 'Malignant cases', 'Normal cases']\n"
          ]
        }
      ],
      "source": [
        "print(dataset.classes)"
      ]
    },
    {
      "cell_type": "code",
      "execution_count": null,
      "metadata": {
        "id": "JC8sRIySO187"
      },
      "outputs": [],
      "source": [
        "import matplotlib\n",
        "import matplotlib.pyplot as plt\n",
        "%matplotlib inline\n",
        "\n",
        "matplotlib.rcParams['figure.facecolor'] = '#ffffff'"
      ]
    },
    {
      "cell_type": "code",
      "execution_count": null,
      "metadata": {
        "id": "6TM5cZVyJp_G"
      },
      "outputs": [],
      "source": [
        "def show_example(img, label):\n",
        "    print('Label: ', dataset.classes[label], \"(\"+str(label)+\")\")\n",
        "    plt.imshow(img.permute(1, 2, 0))"
      ]
    },
    {
      "cell_type": "code",
      "execution_count": null,
      "metadata": {
        "colab": {
          "base_uri": "https://localhost:8080/",
          "height": 286
        },
        "id": "DLd1lDT0Jp_H",
        "outputId": "c24d80b5-9347-41b5-a312-a84e48038ed3"
      },
      "outputs": [
        {
          "output_type": "stream",
          "name": "stdout",
          "text": [
            "Label:  Bengin cases (0)\n"
          ]
        },
        {
          "output_type": "display_data",
          "data": {
            "text/plain": [
              "<Figure size 432x288 with 1 Axes>"
            ],
            "image/png": "[encoded data removed]"
          },
          "metadata": {}
        }
      ],
      "source": [
        "show_example(*dataset[0])"
      ]
    },
    {
      "cell_type": "code",
      "execution_count": null,
      "metadata": {
        "colab": {
          "base_uri": "https://localhost:8080/",
          "height": 283
        },
        "id": "C-bLFBZ0Jp_H",
        "outputId": "1932c437-ee1e-4a87-b4a2-0b649effb28a"
      },
      "outputs": [
        {
          "output_type": "stream",
          "name": "stdout",
          "text": [
            "Label:  Malignant cases (1)\n"
          ]
        },
        {
          "output_type": "display_data",
          "data": {
            "text/plain": [
              "<Figure size 432x288 with 1 Axes>"
            ],
            "image/png": "[encoded data removed]"
          },
          "metadata": {}
        }
      ],
      "source": [
        "show_example(*dataset[198])"
      ]
    },
    {
      "cell_type": "code",
      "execution_count": null,
      "metadata": {
        "id": "MSVGdRK3Jp_J"
      },
      "outputs": [],
      "source": [
        "random_seed = 42\n",
        "torch.manual_seed(random_seed);"
      ]
    },
    {
      "cell_type": "code",
      "source": [
        "len(dataset)"
      ],
      "metadata": {
        "colab": {
          "base_uri": "https://localhost:8080/"
        },
        "id": "WLZCqlCctMfn",
        "outputId": "356a45ac-a46f-4255-eb22-e4b39b78ccf6"
      },
      "execution_count": null,
      "outputs": [
        {
          "output_type": "execute_result",
          "data": {
            "text/plain": [
              "876"
            ]
          },
          "metadata": {},
          "execution_count": 20
        }
      ]
    },
    {
      "cell_type": "code",
      "execution_count": null,
      "metadata": {
        "colab": {
          "base_uri": "https://localhost:8080/"
        },
        "id": "yy5ekvZOJp_L",
        "outputId": "ab4ada33-cc2f-46c9-c473-12986f45ff58"
      },
      "outputs": [
        {
          "output_type": "execute_result",
          "data": {
            "text/plain": [
              "(800, 76)"
            ]
          },
          "metadata": {},
          "execution_count": 21
        }
      ],
      "source": [
        "val_size = 76\n",
        "train_size = len(dataset) - val_size\n",
        "\n",
        "train_ds, val_ds = random_split(dataset, [train_size, val_size])\n",
        "len(train_ds), len(val_ds)"
      ]
    },
    {
      "cell_type": "code",
      "execution_count": null,
      "metadata": {
        "id": "7wM8WQFfJp_M"
      },
      "outputs": [],
      "source": [
        "from torch.utils.data.dataloader import DataLoader\n",
        "\n",
        "batch_size=16"
      ]
    },
    {
      "cell_type": "code",
      "source": [
        "import torchvision\n",
        "from torchvision import transforms\n",
        "from torchvision.transforms import ToTensor\n",
        "from torchvision.datasets import ImageFolder\n",
        "import PIL"
      ],
      "metadata": {
        "id": "awGpr5W7Yt22"
      },
      "execution_count": null,
      "outputs": []
    },
    {
      "cell_type": "code",
      "source": [
        "train_dir= '/content/Image data/train'\n",
        "train_dataset = torchvision.datasets.ImageFolder(\n",
        "    train_dir,\n",
        "    transforms.Compose([\n",
        "        transforms.RandomResizedCrop((512,512)),  # image size int or tuple\n",
        "        # Add more transforms here\n",
        "        transforms.ToTensor(),  # convert to tensor at the end\n",
        "]))\n",
        "\n",
        "train_dl = DataLoader(train_dataset, batch_size=batch_size, shuffle=True)\n"
      ],
      "metadata": {
        "id": "j3YzHHFhZsOU"
      },
      "execution_count": null,
      "outputs": []
    },
    {
      "cell_type": "code",
      "source": [
        "val_dir= '/content/Image data/val'\n",
        "val_dataset = torchvision.datasets.ImageFolder(\n",
        "    val_dir,\n",
        "    transforms.Compose([\n",
        "        transforms.RandomResizedCrop((512,512)),  # image size int or tuple\n",
        "        # Add more transforms here\n",
        "        transforms.ToTensor(),  # convert to tensor at the end\n",
        "]))\n",
        "\n",
        "val_dl = DataLoader(val_dataset, batch_size=batch_size, shuffle=True)\n"
      ],
      "metadata": {
        "id": "L1kU2Hl-iMMu"
      },
      "execution_count": null,
      "outputs": []
    },
    {
      "cell_type": "code",
      "execution_count": null,
      "metadata": {
        "id": "lWXX_hHGJp_M"
      },
      "outputs": [],
      "source": [
        "# train_dl = DataLoader(train_ds, batch_size, shuffle=True, num_workers=4, pin_memory=True)\n",
        "# val_dl = DataLoader(val_ds, batch_size*2, num_workers=4, pin_memory=True)"
      ]
    },
    {
      "cell_type": "code",
      "execution_count": null,
      "metadata": {
        "id": "xEYh1NZxJp_N"
      },
      "outputs": [],
      "source": [
        "from torchvision.utils import make_grid\n",
        "\n",
        "def show_batch(dl):\n",
        "    for images, labels in dl:\n",
        "        fig, ax = plt.subplots()\n",
        "        ax.set_xticks([]); ax.set_yticks([])\n",
        "        ax.imshow(make_grid(images, nrow=16).permute(1, 2, 0))\n",
        "        break"
      ]
    },
    {
      "cell_type": "code",
      "execution_count": null,
      "metadata": {
        "id": "IMSe7bd8Jp_N",
        "colab": {
          "base_uri": "https://localhost:8080/",
          "height": 52
        },
        "outputId": "44e908c3-5534-4e65-9022-b6cc2d7798b3"
      },
      "outputs": [
        {
          "output_type": "display_data",
          "data": {
            "text/plain": [
              "<Figure size 432x288 with 1 Axes>"
            ],
            "image/png": "[encoded data removed]"
          },
          "metadata": {}
        }
      ],
      "source": [
        "show_batch(train_dl)"
      ]
    },
    {
      "cell_type": "code",
      "execution_count": null,
      "metadata": {
        "id": "Tc-SGGw7Jp_O"
      },
      "outputs": [],
      "source": [
        "def apply_kernel(image, kernel):\n",
        "    ri, ci = image.shape       # image dimensions\n",
        "    rk, ck = kernel.shape      # kernel dimensions\n",
        "    ro, co = ri-rk+1, ci-ck+1  # output dimensions\n",
        "    output = torch.zeros([ro, co])\n",
        "    for i in range(ro): \n",
        "        for j in range(co):\n",
        "            output[i,j] = torch.sum(image[i:i+rk,j:j+ck] * kernel)\n",
        "    return output"
      ]
    },
    {
      "cell_type": "code",
      "execution_count": null,
      "metadata": {
        "id": "CKaWyJtUJp_P"
      },
      "outputs": [],
      "source": [
        "import torch.nn as nn\n",
        "import torch.nn.functional as F"
      ]
    },
    {
      "cell_type": "code",
      "execution_count": null,
      "metadata": {
        "id": "WgbZ6gLOJp_Q"
      },
      "outputs": [],
      "source": [
        "class ImageClassificationBase(nn.Module):\n",
        "    def training_step(self, batch):\n",
        "        images, labels = batch \n",
        "        out = self(images)                  # Generate predictions\n",
        "        loss = F.cross_entropy(out, labels) # Calculate loss\n",
        "        return loss\n",
        "    \n",
        "    def validation_step(self, batch):\n",
        "        images, labels = batch \n",
        "        out = self(images)                    # Generate predictions\n",
        "        loss = F.cross_entropy(out, labels)   # Calculate loss\n",
        "        acc = accuracy(out, labels)           # Calculate accuracy\n",
        "        return {'val_loss': loss.detach(), 'val_acc': acc}\n",
        "        \n",
        "    def validation_epoch_end(self, outputs):\n",
        "        batch_losses = [x['val_loss'] for x in outputs]\n",
        "        epoch_loss = torch.stack(batch_losses).mean()   # Combine losses\n",
        "        batch_accs = [x['val_acc'] for x in outputs]\n",
        "        epoch_acc = torch.stack(batch_accs).mean()      # Combine accuracies\n",
        "        return {'val_loss': epoch_loss.item(), 'val_acc': epoch_acc.item()}\n",
        "    \n",
        "    def epoch_end(self, epoch, result):\n",
        "        print(\"Epoch [{}], train_loss: {:.4f}, val_loss: {:.4f}, val_acc: {:.4f}\".format(\n",
        "            epoch, result['train_loss'], result['val_loss'], result['val_acc']))\n",
        "        \n",
        "def accuracy(outputs, labels):\n",
        "    _, preds = torch.max(outputs, dim=1)\n",
        "    return torch.tensor(torch.sum(preds == labels).item() / len(preds))"
      ]
    },
    {
      "cell_type": "code",
      "execution_count": null,
      "metadata": {
        "id": "F4xrvghlJp_Q"
      },
      "outputs": [],
      "source": [
        "class LungModel(ImageClassificationBase):\n",
        "    def __init__(self):\n",
        "        super().__init__()\n",
        "        self.network = nn.Sequential(\n",
        "            nn.Conv2d(3, 32, kernel_size=3, padding=1),\n",
        "            nn.ReLU(),\n",
        "            nn.MaxPool2d(2, 2),\n",
        "            nn.Conv2d(32, 64, kernel_size=3, stride=1, padding=1),\n",
        "            nn.ReLU(),\n",
        "            nn.MaxPool2d(2, 2), # output: 64 x 128 x 128\n",
        "\n",
        "            nn.Conv2d(64, 128, kernel_size=3, stride=1, padding=1),\n",
        "            nn.ReLU(),\n",
        "            nn.Conv2d(128, 128, kernel_size=3, stride=1, padding=1),\n",
        "            nn.ReLU(),\n",
        "            nn.MaxPool2d(2, 2), # output: 128 x 64 x 64\n",
        "\n",
        "            nn.Conv2d(128, 256, kernel_size=3, stride=1, padding=1),\n",
        "            nn.ReLU(),\n",
        "            nn.Conv2d(256, 256, kernel_size=3, stride=1, padding=1),\n",
        "            nn.ReLU(),\n",
        "            nn.MaxPool2d(2, 2), # output: 256 x 32 x 32\n",
        "\n",
        "            nn.Flatten(), \n",
        "            # nn.Linear(256*4*4, 1024),\n",
        "            # nn.ReLU(),\n",
        "            nn.Linear(256*32*32, 16),\n",
        "            nn.ReLU(),\n",
        "            nn.Linear(16, 3)\n",
        "            )\n",
        "        \n",
        "    def forward(self, xb):\n",
        "        return self.network(xb)"
      ]
    },
    {
      "cell_type": "code",
      "execution_count": null,
      "metadata": {
        "colab": {
          "base_uri": "https://localhost:8080/"
        },
        "id": "tU5q48KeJp_Q",
        "outputId": "a63fa3a4-2882-4fb5-b517-e85ebd9e29c3"
      },
      "outputs": [
        {
          "output_type": "execute_result",
          "data": {
            "text/plain": [
              "LungModel(\n",
              "  (network): Sequential(\n",
              "    (0): Conv2d(3, 32, kernel_size=(3, 3), stride=(1, 1), padding=(1, 1))\n",
              "    (1): ReLU()\n",
              "    (2): MaxPool2d(kernel_size=2, stride=2, padding=0, dilation=1, ceil_mode=False)\n",
              "    (3): Conv2d(32, 64, kernel_size=(3, 3), stride=(1, 1), padding=(1, 1))\n",
              "    (4): ReLU()\n",
              "    (5): MaxPool2d(kernel_size=2, stride=2, padding=0, dilation=1, ceil_mode=False)\n",
              "    (6): Conv2d(64, 128, kernel_size=(3, 3), stride=(1, 1), padding=(1, 1))\n",
              "    (7): ReLU()\n",
              "    (8): Conv2d(128, 128, kernel_size=(3, 3), stride=(1, 1), padding=(1, 1))\n",
              "    (9): ReLU()\n",
              "    (10): MaxPool2d(kernel_size=2, stride=2, padding=0, dilation=1, ceil_mode=False)\n",
              "    (11): Conv2d(128, 256, kernel_size=(3, 3), stride=(1, 1), padding=(1, 1))\n",
              "    (12): ReLU()\n",
              "    (13): Conv2d(256, 256, kernel_size=(3, 3), stride=(1, 1), padding=(1, 1))\n",
              "    (14): ReLU()\n",
              "    (15): MaxPool2d(kernel_size=2, stride=2, padding=0, dilation=1, ceil_mode=False)\n",
              "    (16): Flatten(start_dim=1, end_dim=-1)\n",
              "    (17): Linear(in_features=262144, out_features=16, bias=True)\n",
              "    (18): ReLU()\n",
              "    (19): Linear(in_features=16, out_features=3, bias=True)\n",
              "  )\n",
              ")"
            ]
          },
          "metadata": {},
          "execution_count": 33
        }
      ],
      "source": [
        "model = LungModel()\n",
        "model"
      ]
    },
    {
      "cell_type": "code",
      "execution_count": null,
      "metadata": {
        "colab": {
          "base_uri": "https://localhost:8080/"
        },
        "id": "YCm2I82pJp_Q",
        "outputId": "bbf8de5e-d8c2-4c23-8fc7-2675207cebdb"
      },
      "outputs": [
        {
          "output_type": "stream",
          "name": "stdout",
          "text": [
            "images.shape: torch.Size([16, 3, 512, 512])\n",
            "out.shape: torch.Size([16, 3])\n"
          ]
        }
      ],
      "source": [
        "for images, labels in train_dl:\n",
        "    print('images.shape:', images.shape)\n",
        "\n",
        "    out = model(images)\n",
        "    print('out.shape:', out.shape)\n",
        "    # print('out[0]:', out[0])\n",
        "    break"
      ]
    },
    {
      "cell_type": "markdown",
      "metadata": {
        "id": "oASDWWc9Jp_R"
      },
      "source": [
        "To seamlessly use a GPU, if one is available, we define a couple of helper functions (`get_default_device` & `to_device`) and a helper class `DeviceDataLoader` to move our model & data to the GPU as required. These are described in more detail in the [previous tutorial](https://jovian.ml/aakashns/04-feedforward-nn#C21)."
      ]
    },
    {
      "cell_type": "code",
      "execution_count": null,
      "metadata": {
        "id": "wR9oVOopJp_R"
      },
      "outputs": [],
      "source": [
        "def get_default_device():\n",
        "    \"\"\"Pick GPU if available, else CPU\"\"\"\n",
        "    if torch.cuda.is_available():\n",
        "        return torch.device('cuda')\n",
        "    else:\n",
        "        return torch.device('cpu')\n",
        "    \n",
        "def to_device(data, device):\n",
        "    \"\"\"Move tensor(s) to chosen device\"\"\"\n",
        "    if isinstance(data, (list,tuple)):\n",
        "        return [to_device(x, device) for x in data]\n",
        "    return data.to(device, non_blocking=True)\n",
        "\n",
        "class DeviceDataLoader():\n",
        "    \"\"\"Wrap a dataloader to move data to a device\"\"\"\n",
        "    def __init__(self, dl, device):\n",
        "        self.dl = dl\n",
        "        self.device = device\n",
        "        \n",
        "    def __iter__(self):\n",
        "        \"\"\"Yield a batch of data after moving it to device\"\"\"\n",
        "        for b in self.dl: \n",
        "            yield to_device(b, self.device)\n",
        "\n",
        "    def __len__(self):\n",
        "        \"\"\"Number of batches\"\"\"\n",
        "        return len(self.dl)"
      ]
    },
    {
      "cell_type": "markdown",
      "metadata": {
        "id": "5zBM9zOqJp_R"
      },
      "source": [
        "Based on where you're running this notebook, your default device could be a CPU (`torch.device('cpu')`) or a GPU (`torch.device('cuda')`)"
      ]
    },
    {
      "cell_type": "code",
      "execution_count": null,
      "metadata": {
        "colab": {
          "base_uri": "https://localhost:8080/"
        },
        "id": "iczDAm1SJp_R",
        "outputId": "f33bf1ac-1f5b-4429-f241-d7b1c43fffa6"
      },
      "outputs": [
        {
          "output_type": "execute_result",
          "data": {
            "text/plain": [
              "device(type='cuda')"
            ]
          },
          "metadata": {},
          "execution_count": 36
        }
      ],
      "source": [
        "device = get_default_device()\n",
        "device"
      ]
    },
    {
      "cell_type": "markdown",
      "metadata": {
        "id": "zdlOEla3Jp_R"
      },
      "source": [
        "We can now wrap our training and validation data loaders using `DeviceDataLoader` for automatically transferring batches of data to the GPU (if available), and use `to_device` to move our model to the GPU (if available)."
      ]
    },
    {
      "cell_type": "code",
      "execution_count": null,
      "metadata": {
        "id": "vx3BnG8IJp_R"
      },
      "outputs": [],
      "source": [
        "train_dl = DeviceDataLoader(train_dl, device)\n",
        "val_dl = DeviceDataLoader(val_dl, device)\n",
        "to_device(model, device);"
      ]
    },
    {
      "cell_type": "markdown",
      "metadata": {
        "id": "CICXCTtpJp_R"
      },
      "source": [
        "Once again, let's save and commit the notebook before we proceed further."
      ]
    },
    {
      "cell_type": "markdown",
      "metadata": {
        "id": "0qq2eMlEJp_S"
      },
      "source": [
        "## Training the Model\n",
        "\n",
        "We'll define two functions: `fit` and `evaluate` to train the model using gradient descent and evaluate its performance on the validation set. For a detailed walkthrough of these functions, check out the [previous tutorial](https://jovian.ai/aakashns/03-logistic-regression)."
      ]
    },
    {
      "cell_type": "code",
      "execution_count": null,
      "metadata": {
        "id": "aEQkLCaYJp_S"
      },
      "outputs": [],
      "source": [
        "@torch.no_grad()\n",
        "def evaluate(model, val_loader):\n",
        "    model.eval()\n",
        "    outputs = [model.validation_step(batch) for batch in val_loader]\n",
        "    return model.validation_epoch_end(outputs)\n",
        "\n",
        "def fit(epochs, lr, model, train_loader, val_loader, opt_func):\n",
        "    history = []\n",
        "    optimizer = opt_func(model.parameters(), lr)\n",
        "    for epoch in range(epochs):\n",
        "        # Training Phase \n",
        "        model.train()\n",
        "        train_losses = []\n",
        "        for batch in train_loader:\n",
        "            loss = model.training_step(batch)\n",
        "            train_losses.append(loss)\n",
        "            loss.backward()\n",
        "            optimizer.step()\n",
        "            optimizer.zero_grad()\n",
        "        # Validation phase\n",
        "        result = evaluate(model, val_loader)\n",
        "        result['train_loss'] = torch.stack(train_losses).mean().item()\n",
        "        model.epoch_end(epoch, result)\n",
        "        history.append(result)\n",
        "    return history"
      ]
    },
    {
      "cell_type": "markdown",
      "metadata": {
        "id": "mGbR0ClAJp_S"
      },
      "source": [
        "Before we begin training, let's instantiate the model once again and see how it performs on the validation set with the initial set of parameters."
      ]
    },
    {
      "cell_type": "code",
      "execution_count": null,
      "metadata": {
        "id": "FOI6pwRmJp_S"
      },
      "outputs": [],
      "source": [
        "model = to_device(LungModel(), device)"
      ]
    },
    {
      "cell_type": "code",
      "execution_count": null,
      "metadata": {
        "colab": {
          "base_uri": "https://localhost:8080/"
        },
        "id": "rWO9y9TrJp_S",
        "outputId": "2706e837-246a-4a0c-cf36-d231a8af38e3"
      },
      "outputs": [
        {
          "output_type": "execute_result",
          "data": {
            "text/plain": [
              "{'val_loss': 1.045470118522644, 'val_acc': 0.5063775777816772}"
            ]
          },
          "metadata": {},
          "execution_count": 40
        }
      ],
      "source": [
        "evaluate(model, val_dl)"
      ]
    },
    {
      "cell_type": "markdown",
      "metadata": {
        "id": "WEuauDpwJp_S"
      },
      "source": [
        "The initial accuracy is around 50%, which is what one might expect from a randomly intialized model.\n",
        "\n",
        "We'll use the following *hyperparmeters* (learning rate, no. of epochs, batch_size etc.) to train our model. As an exercise, you can try changing these to see if you have achieve a higher accuracy in a shorter time. "
      ]
    },
    {
      "cell_type": "code",
      "source": [
        "!pip install jovian --upgrade -q\n",
        "import jovian\n",
        "jovian.commit(project=project_name)"
      ],
      "metadata": {
        "colab": {
          "base_uri": "https://localhost:8080/"
        },
        "id": "wTe7KonvRqeg",
        "outputId": "59af74d4-543b-49a9-bf9c-2c15f301f4de"
      },
      "execution_count": null,
      "outputs": [
        {
          "output_type": "stream",
          "name": "stdout",
          "text": [
            "\u001b[?25l     \u001b[90m━━━━━━━━━━━━━━━━━━━━━━━━━━━━━━━━━━━━━━━━\u001b[0m \u001b[32m0.0/68.6 KB\u001b[0m \u001b[31m?\u001b[0m eta \u001b[36m-:--:--\u001b[0m\r\u001b[2K     \u001b[90m━━━━━━━━━━━━━━━━━━━━━━━━━━━━━━━━━━━━━━━━\u001b[0m \u001b[32m68.6/68.6 KB\u001b[0m \u001b[31m7.8 MB/s\u001b[0m eta \u001b[36m0:00:00\u001b[0m\n",
            "\u001b[?25h  Preparing metadata (setup.py) ... \u001b[?25l\u001b[?25hdone\n",
            "  Building wheel for uuid (setup.py) ... \u001b[?25l\u001b[?25hdone\n",
            "[jovian] Detected Colab notebook...\u001b[0m\n",
            "[jovian] jovian.commit() is no longer required on Google Colab. If you ran this notebook from Jovian, \n",
            "then just save this file in Colab using Ctrl+S/Cmd+S and it will be updated on Jovian. \n",
            "Also, you can also delete this cell, it's no longer necessary.\u001b[0m\n"
          ]
        }
      ]
    },
    {
      "cell_type": "code",
      "execution_count": null,
      "metadata": {
        "id": "HdSA8RWDJp_S"
      },
      "outputs": [],
      "source": [
        "import torch\n",
        "num_epochs = 10\n",
        "opt_func = torch.optim.Adam\n",
        "#(model.parameters(), lr=lr, momentum=0.9)\n",
        "lr = 0.01\n",
        "# opt_func  = torch.optim.SGD\n"
      ]
    },
    {
      "cell_type": "markdown",
      "metadata": {
        "id": "-6lIc9bUJp_S"
      },
      "source": [
        "It's important to record the hyperparameters of every experiment you do, to replicate it later and compare it against other experiments. We can record them using `jovian.log_hyperparams`."
      ]
    },
    {
      "cell_type": "code",
      "execution_count": null,
      "metadata": {
        "id": "vZK4Y2XrJp_T",
        "colab": {
          "base_uri": "https://localhost:8080/"
        },
        "outputId": "14a92fb5-82e4-4852-f500-4a006e996ddb"
      },
      "outputs": [
        {
          "output_type": "stream",
          "name": "stdout",
          "text": [
            "Epoch [0], train_loss: 34.8925, val_loss: 0.9550, val_acc: 0.5089\n",
            "Epoch [1], train_loss: 0.9553, val_loss: 0.9547, val_acc: 0.5064\n",
            "Epoch [2], train_loss: 0.9547, val_loss: 0.9555, val_acc: 0.5089\n",
            "Epoch [3], train_loss: 0.9537, val_loss: 0.9512, val_acc: 0.5128\n",
            "Epoch [4], train_loss: 0.9535, val_loss: 0.9554, val_acc: 0.5089\n",
            "Epoch [5], train_loss: 0.9531, val_loss: 0.9546, val_acc: 0.5064\n",
            "Epoch [6], train_loss: 0.9538, val_loss: 0.9512, val_acc: 0.5128\n",
            "Epoch [7], train_loss: 0.9541, val_loss: 0.9554, val_acc: 0.5089\n",
            "Epoch [8], train_loss: 0.9535, val_loss: 0.9535, val_acc: 0.5102\n",
            "Epoch [9], train_loss: 0.9546, val_loss: 0.9523, val_acc: 0.5089\n"
          ]
        }
      ],
      "source": [
        "history = fit(num_epochs, lr, model, train_dl, val_dl, opt_func)"
      ]
    },
    {
      "cell_type": "code",
      "source": [
        "lr=0.1\n",
        "history = fit(num_epochs, lr, model, train_dl, val_dl, opt_func)"
      ],
      "metadata": {
        "colab": {
          "base_uri": "https://localhost:8080/"
        },
        "id": "jzMMFvDiFCJm",
        "outputId": "d742e4c0-b9c7-4259-d4d0-b641d06ac251"
      },
      "execution_count": null,
      "outputs": [
        {
          "output_type": "stream",
          "name": "stdout",
          "text": [
            "Epoch [0], train_loss: 0.9732, val_loss: 0.9578, val_acc: 0.5089\n",
            "Epoch [1], train_loss: 0.9576, val_loss: 0.9539, val_acc: 0.5089\n",
            "Epoch [2], train_loss: 0.9586, val_loss: 0.9585, val_acc: 0.5077\n",
            "Epoch [3], train_loss: 0.9591, val_loss: 0.9531, val_acc: 0.5115\n",
            "Epoch [4], train_loss: 0.9602, val_loss: 0.9701, val_acc: 0.3814\n",
            "Epoch [5], train_loss: 0.9670, val_loss: 0.9564, val_acc: 0.5051\n",
            "Epoch [6], train_loss: 0.9588, val_loss: 0.9567, val_acc: 0.5077\n",
            "Epoch [7], train_loss: 0.9611, val_loss: 0.9679, val_acc: 0.5064\n",
            "Epoch [8], train_loss: 0.9684, val_loss: 0.9892, val_acc: 0.3801\n",
            "Epoch [9], train_loss: 0.9593, val_loss: 0.9690, val_acc: 0.5051\n"
          ]
        }
      ]
    },
    {
      "cell_type": "markdown",
      "metadata": {
        "id": "bhybBuPkJp_T"
      },
      "source": [
        "Just as we have recorded the hyperparameters, we can also record the final metrics achieved by the model using `jovian.log_metrics` for reference, analysis and comparison."
      ]
    },
    {
      "cell_type": "code",
      "execution_count": null,
      "metadata": {
        "colab": {
          "base_uri": "https://localhost:8080/"
        },
        "id": "z5Kxuq9EJp_T",
        "outputId": "aef86fb4-93cd-4019-f92f-428b64dcdfe0"
      },
      "outputs": [
        {
          "name": "stdout",
          "output_type": "stream",
          "text": [
            "[jovian] Metrics logged.\u001b[0m\n"
          ]
        }
      ],
      "source": [
        "jovian.log_metrics(train_loss=history[-1]['train_loss'], \n",
        "                   val_loss=history[-1]['val_loss'], \n",
        "                   val_acc=history[-1]['val_acc'])"
      ]
    },
    {
      "cell_type": "markdown",
      "metadata": {
        "id": "55K2kRe6Jp_T"
      },
      "source": [
        "We can also plot the valdation set accuracies to study how the model improves over time."
      ]
    },
    {
      "cell_type": "code",
      "execution_count": null,
      "metadata": {
        "id": "UP7E5_GhJp_T"
      },
      "outputs": [],
      "source": [
        "def plot_accuracies(history):\n",
        "    accuracies = [x['val_acc'] for x in history]\n",
        "    plt.plot(accuracies, '-x')\n",
        "    plt.xlabel('epoch')\n",
        "    plt.ylabel('accuracy')\n",
        "    plt.title('Accuracy vs. No. of epochs');"
      ]
    },
    {
      "cell_type": "code",
      "execution_count": null,
      "metadata": {
        "id": "KYgnxqQQJp_T"
      },
      "outputs": [],
      "source": [
        "plot_accuracies(history)"
      ]
    },
    {
      "cell_type": "code",
      "execution_count": null,
      "metadata": {
        "id": "Oefp3XHjJp_U"
      },
      "outputs": [],
      "source": [
        "def plot_losses(history):\n",
        "    train_losses = [x.get('train_loss') for x in history]\n",
        "    val_losses = [x['val_loss'] for x in history]\n",
        "    plt.plot(train_losses, '-bx')\n",
        "    plt.plot(val_losses, '-rx')\n",
        "    plt.xlabel('epoch')\n",
        "    plt.ylabel('loss')\n",
        "    plt.legend(['Training', 'Validation'])\n",
        "    plt.title('Loss vs. No. of epochs');"
      ]
    },
    {
      "cell_type": "code",
      "execution_count": null,
      "metadata": {
        "id": "KBpeN5YhJp_U"
      },
      "outputs": [],
      "source": [
        "plot_losses(history)"
      ]
    },
    {
      "cell_type": "markdown",
      "metadata": {
        "id": "v0ZkttR-Jp_U"
      },
      "source": [
        "Initialy, both the training and validation losses seem to decrease over time. However, if you train the model for long enough, you will notice that the training loss continues to decrease, while the validation loss stops decreasing, and even starts to increase after a certain point! \n",
        "\n",
        "<img src=\"https://i.stack.imgur.com/1QU0m.png\" style=\"max-width:400px;\">\n",
        "\n",
        "This phenomenon is called **overfitting**, and it is the no. 1 why many machine learning models give rather terrible results on real-world data. It happens because the model, in an attempt to minimize the loss, starts to learn patters are are unique to the training data, sometimes even memorizing specific training examples. Because of this, the model does not generalize well to previously unseen data.\n",
        "\n",
        "\n",
        "Following are some common stragegies for avoiding overfitting:\n",
        "\n",
        "- Gathering and generating more training data, or adding noise to it\n",
        "- Using regularization techniques like batch normalization & dropout\n",
        "- Early stopping of model's training, when validation loss starts to increase\n",
        "\n",
        "We will cover these topics in more detail in the next tutorial in this series, and learn how we can reach an accuracy of **over 90%** by making minor but important changes to our model."
      ]
    },
    {
      "cell_type": "markdown",
      "metadata": {
        "id": "my239tuTJp_U"
      },
      "source": [
        "Before continuing, let us save our work to the cloud using `jovian.commit`."
      ]
    },
    {
      "cell_type": "code",
      "execution_count": null,
      "metadata": {
        "colab": {
          "base_uri": "https://localhost:8080/"
        },
        "id": "4bLvOFf-Jp_U",
        "outputId": "bcf25581-1068-41a0-d328-fa0bc82b8124"
      },
      "outputs": [
        {
          "output_type": "stream",
          "name": "stdout",
          "text": [
            "[jovian] Detected Colab notebook...\u001b[0m\n",
            "[jovian] jovian.commit() is no longer required on Google Colab. If you ran this notebook from Jovian, \n",
            "then just save this file in Colab using Ctrl+S/Cmd+S and it will be updated on Jovian. \n",
            "Also, you can also delete this cell, it's no longer necessary.\u001b[0m\n"
          ]
        }
      ],
      "source": [
        "jovian.commit(project=project_name)"
      ]
    },
    {
      "cell_type": "markdown",
      "metadata": {
        "id": "Smk8znXkJp_W"
      },
      "source": [
        "## Saving and loading the model\n",
        "\n",
        "Since we've trained our model for a long time and achieved a resonable accuracy, it would be a good idea to save the weights of the model to disk, so that we can reuse the model later and avoid retraining from scratch. Here's how you can save the model."
      ]
    },
    {
      "cell_type": "code",
      "execution_count": null,
      "metadata": {
        "id": "WLLm-pIyJp_W"
      },
      "outputs": [],
      "source": [
        "torch.save(model.state_dict(), 'cifar10-cnn.pth')"
      ]
    },
    {
      "cell_type": "markdown",
      "metadata": {
        "id": "WsxZJi5fJp_W"
      },
      "source": [
        "The `.state_dict` method returns an `OrderedDict` containing all the weights and bias matrices mapped to the right attributes of the model. To load the model weights, we can redefine the model with the same structure, and use the `.load_state_dict` method."
      ]
    },
    {
      "cell_type": "code",
      "execution_count": null,
      "metadata": {
        "id": "Mb9KOT7GJp_W"
      },
      "outputs": [],
      "source": [
        "model2 = to_device(LungModel(), device)"
      ]
    },
    {
      "cell_type": "code",
      "execution_count": null,
      "metadata": {
        "id": "TFCWPlalJp_W"
      },
      "outputs": [],
      "source": [
        "model2.load_state_dict(torch.load('cifar10-cnn.pth'))"
      ]
    },
    {
      "cell_type": "markdown",
      "metadata": {
        "id": "o53KprzHJp_W"
      },
      "source": [
        "Just as a sanity check, let's verify that this model has the same loss and accuracy on the test set as before."
      ]
    },
    {
      "cell_type": "code",
      "execution_count": null,
      "metadata": {
        "id": "YAtV9ZOqJp_W",
        "outputId": "357a980b-1105-4242-b804-6065d1621604"
      },
      "outputs": [
        {
          "data": {
            "text/plain": [
              "{'val_loss': 0.9666368365287781, 'val_acc': 0.761523425579071}"
            ]
          },
          "execution_count": 62,
          "metadata": {
            "tags": []
          },
          "output_type": "execute_result"
        }
      ],
      "source": [
        "evaluate(model2, test_loader)"
      ]
    },
    {
      "cell_type": "markdown",
      "metadata": {
        "id": "nrqd6TsvJp_X"
      },
      "source": [
        "Let's make one final commit using `jovian`."
      ]
    },
    {
      "cell_type": "code",
      "execution_count": null,
      "metadata": {
        "id": "ANPiy0tfJp_X",
        "outputId": "27dd7a7e-7884-4acd-9ca1-8687d62fdbe0",
        "colab": {
          "base_uri": "https://localhost:8080/"
        }
      },
      "outputs": [
        {
          "output_type": "stream",
          "name": "stdout",
          "text": [
            "[jovian] Detected Colab notebook...\u001b[0m\n",
            "[jovian] jovian.commit() is no longer required on Google Colab. If you ran this notebook from Jovian, \n",
            "then just save this file in Colab using Ctrl+S/Cmd+S and it will be updated on Jovian. \n",
            "Also, you can also delete this cell, it's no longer necessary.\u001b[0m\n"
          ]
        }
      ],
      "source": [
        "jovian.commit(project=project_name)"
      ]
    },
    {
      "cell_type": "code",
      "execution_count": null,
      "metadata": {
        "id": "ViVX5iIxJp_X"
      },
      "outputs": [],
      "source": []
    }
  ],
  "metadata": {
    "accelerator": "GPU",
    "colab": {
      "provenance": []
    },
    "gpuClass": "standard",
    "kernelspec": {
      "display_name": "Python 3",
      "language": "python",
      "name": "python3"
    },
    "language_info": {
      "codemirror_mode": {
        "name": "ipython",
        "version": 3
      },
      "file_extension": ".py",
      "mimetype": "text/x-python",
      "name": "python",
      "nbconvert_exporter": "python",
      "pygments_lexer": "ipython3",
      "version": "3.7.6"
    }
  },
  "nbformat": 4,
  "nbformat_minor": 0
}